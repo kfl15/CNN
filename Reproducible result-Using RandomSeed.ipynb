{
 "cells": [
  {
   "cell_type": "code",
   "execution_count": 5,
   "id": "29c5984e",
   "metadata": {},
   "outputs": [],
   "source": [
    "import numpy as np\n",
    "import tensorflow as tf\n",
    "import random as rn"
   ]
  },
  {
   "cell_type": "code",
   "execution_count": 2,
   "id": "d8d797b6",
   "metadata": {},
   "outputs": [],
   "source": [
    "import os\n",
    "os.environ['PYTHON_SEED'] = '0'"
   ]
  },
  {
   "cell_type": "code",
   "execution_count": 17,
   "id": "44f10684",
   "metadata": {},
   "outputs": [],
   "source": [
    "# seeting seed for numpy generated random numbers\n",
    "np.random.seed(37)"
   ]
  },
  {
   "cell_type": "code",
   "execution_count": 6,
   "id": "55242e1b",
   "metadata": {},
   "outputs": [],
   "source": [
    "# setting the seed for python random number\n",
    "rn.seed(1254)"
   ]
  },
  {
   "cell_type": "code",
   "execution_count": 9,
   "id": "f12a6eee",
   "metadata": {},
   "outputs": [],
   "source": [
    "# setting the seed for tensorflow random number\n",
    "tf.random.set_seed(89)"
   ]
  },
  {
   "cell_type": "code",
   "execution_count": 16,
   "id": "e604e5ca",
   "metadata": {},
   "outputs": [],
   "source": [
    "# Force tf to use a single thread\n",
    "from keras import backend as K\n",
    "\n",
    "session_conf = tf.compat.v1.ConfigProto(intra_op_parallelism_threads = 1, inter_op_parallelism_threads = 1)\n",
    "\n",
    "sess = tf.compat.v1.Session(graph=tf.compat.v1.get_default_graph(), config=session_conf)\n",
    "K.set_session(sess)"
   ]
  },
  {
   "cell_type": "code",
   "execution_count": 18,
   "id": "c9bfc7d9",
   "metadata": {},
   "outputs": [],
   "source": [
    "# Remaining keras code goes here after\n",
    "# setting the random seeds"
   ]
  },
  {
   "cell_type": "code",
   "execution_count": null,
   "id": "0c8dcb2d",
   "metadata": {},
   "outputs": [],
   "source": []
  }
 ],
 "metadata": {
  "kernelspec": {
   "display_name": "Python 3 (ipykernel)",
   "language": "python",
   "name": "python3"
  },
  "language_info": {
   "codemirror_mode": {
    "name": "ipython",
    "version": 3
   },
   "file_extension": ".py",
   "mimetype": "text/x-python",
   "name": "python",
   "nbconvert_exporter": "python",
   "pygments_lexer": "ipython3",
   "version": "3.9.13"
  }
 },
 "nbformat": 4,
 "nbformat_minor": 5
}
